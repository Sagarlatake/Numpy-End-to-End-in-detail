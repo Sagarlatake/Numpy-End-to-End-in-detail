{
 "cells": [
  {
   "cell_type": "markdown",
   "metadata": {},
   "source": [
    "# Numerical Python End to End in Detail"
   ]
  },
  {
   "cell_type": "markdown",
   "metadata": {},
   "source": [
    "### Numpy:\n",
    "\n",
    "Numpy- is a <b>Numerical Python</b>\n",
    "\n",
    "It is developed by <b>Travis Oliphant in 2005</b>\n",
    "\n",
    "Numpy has functions to work on linear algebra, fourier transform, and matrices\n",
    "\n",
    "Its basically used to work with array, It can work with multidimentional Arrays\n",
    "\n",
    "### Why:\n",
    "\n",
    "Numpy is built using <b>python</b>, and most of the part which requires fatser execution is <b>developed using c or c++</b>,So it is very fast in execution.\n",
    "\n",
    "Numpy arrays are called as <b>ndarray</b>\n",
    "\n",
    "Numpy has 50x speed as compared to python list\n",
    "\n",
    "Numpy provides lots of functions which can be performed on large data\n",
    "\n",
    "Numpy gives faster response as compared to list as it <b>stores numpy arrays at one continuous location</b>\n",
    "\n",
    "Numpy codes are available at:\n",
    "https://github.com/numpy/numpy\n",
    "\n"
   ]
  },
  {
   "cell_type": "markdown",
   "metadata": {},
   "source": [
    "## Installation of Numpy"
   ]
  },
  {
   "cell_type": "raw",
   "metadata": {},
   "source": [
    "Go to terminal and use below command, without !\n",
    "\n",
    "! pip install numpy\n",
    "\n",
    "you can use other tools like spyder or Anaconda which comes with its installation."
   ]
  },
  {
   "cell_type": "code",
   "execution_count": 45,
   "metadata": {},
   "outputs": [
    {
     "data": {
      "text/plain": [
       "'1.18.5'"
      ]
     },
     "execution_count": 45,
     "metadata": {},
     "output_type": "execute_result"
    }
   ],
   "source": [
    "import numpy as np\n",
    "\n",
    "np.__version__"
   ]
  },
  {
   "cell_type": "code",
   "execution_count": 48,
   "metadata": {},
   "outputs": [
    {
     "name": "stdout",
     "output_type": "stream",
     "text": [
      "[1 2 3 4 5 6 7 8 9]\n",
      "<class 'numpy.ndarray'>\n",
      "[10 20 30 40]\n",
      "<class 'numpy.ndarray'>\n"
     ]
    }
   ],
   "source": [
    "# create a numpy array using list\n",
    "arr = np.array([1,2,3,4,5,6,7,8,9])\n",
    "\n",
    "print(arr)\n",
    "print(type(arr))\n",
    "\n",
    "\n",
    "lst = [10,20,30,40]\n",
    "\n",
    "ar = np.array(lst)\n",
    "print(ar)\n",
    "print(type(ar))"
   ]
  },
  {
   "cell_type": "code",
   "execution_count": 52,
   "metadata": {},
   "outputs": [
    {
     "name": "stdout",
     "output_type": "stream",
     "text": [
      "[1 2 3 4 5 6 7 8 9]\n",
      "Number of dimensions:  1\n"
     ]
    }
   ],
   "source": [
    "# How to access the element\n",
    "# its 1-D array\n",
    "arr = np.array([1,2,3,4,5,6,7,8,9])\n",
    "print(arr)\n",
    "\n",
    "\n",
    "# lets check the dimensions of the array\n",
    "\n",
    "print(\"Number of dimensions: \",arr.ndim)"
   ]
  },
  {
   "cell_type": "raw",
   "metadata": {},
   "source": [
    "ndarray:\n",
    "    The array object in NumPy is called ndarray"
   ]
  },
  {
   "cell_type": "code",
   "execution_count": 57,
   "metadata": {},
   "outputs": [
    {
     "name": "stdout",
     "output_type": "stream",
     "text": [
      "[1 2 3 4 5 6]\n",
      "<class 'numpy.ndarray'>\n",
      "Dimensions:  1\n"
     ]
    }
   ],
   "source": [
    "# Create numpy array using tuple\n",
    "\n",
    "tup = (1,2,3,4,5,6)\n",
    "ar = np.array(tup)\n",
    "print(ar)\n",
    "print(type(ar))\n",
    "print(\"Dimensions: \",ar.ndim)"
   ]
  },
  {
   "cell_type": "code",
   "execution_count": null,
   "metadata": {},
   "outputs": [],
   "source": [
    "# Different Dimensional arrays:"
   ]
  },
  {
   "cell_type": "code",
   "execution_count": 59,
   "metadata": {},
   "outputs": [
    {
     "name": "stdout",
     "output_type": "stream",
     "text": [
      "200\n",
      "Dimensions:  0\n"
     ]
    }
   ],
   "source": [
    "# 0-D array\n",
    "\n",
    "arr = np.array(200)\n",
    "\n",
    "print(arr) \n",
    "\n",
    "# dimensions\n",
    "\n",
    "print(\"Dimensions: \",arr.ndim)\n"
   ]
  },
  {
   "cell_type": "code",
   "execution_count": 63,
   "metadata": {},
   "outputs": [
    {
     "name": "stdout",
     "output_type": "stream",
     "text": [
      "[1 2 3 4 5 6]\n",
      "<class 'numpy.ndarray'>\n",
      "1\n",
      "Element present at 4th index:  5\n"
     ]
    }
   ],
   "source": [
    "# 1-D array\n",
    "\n",
    "arr = np.array((1,2,3,4,5,6))\n",
    "print(arr)\n",
    "print(type(arr))\n",
    "\n",
    "# dimesnsions\n",
    "print(arr.ndim)\n",
    "\n",
    "# Access elements an 1-D array\n",
    "\n",
    "print(\"Element present at 4th index: \",arr[4])"
   ]
  },
  {
   "cell_type": "code",
   "execution_count": 64,
   "metadata": {},
   "outputs": [
    {
     "name": "stdout",
     "output_type": "stream",
     "text": [
      "[[1 2 3]\n",
      " [4 5 6]]\n",
      "Dimensions:  2\n"
     ]
    }
   ],
   "source": [
    "# 2-D array\n",
    "# Arrays ahaving 1-D array as input element, are called as 2-D array\n",
    "ar = [[1,2,3],[4,5,6]]\n",
    "arr = np.array(ar)\n",
    "print(arr)\n",
    "print(\"Dimensions: \",arr.ndim)"
   ]
  },
  {
   "cell_type": "code",
   "execution_count": 75,
   "metadata": {},
   "outputs": [
    {
     "name": "stdout",
     "output_type": "stream",
     "text": [
      "[1 2 3]\n",
      "3\n",
      "[4 5 6]\n",
      "5\n",
      "Dimensions:  2\n"
     ]
    }
   ],
   "source": [
    "# Access the elements of 2-D array\n",
    "#one way is to write\n",
    "\n",
    "print(arr[0])\n",
    "print(arr[0][2])\n",
    "# another way is like\n",
    "print(arr[1])\n",
    "print(arr[1,1])\n",
    "\n",
    "# dimensions\n",
    "\n",
    "print(\"Dimensions: \",arr.ndim)"
   ]
  },
  {
   "cell_type": "code",
   "execution_count": 77,
   "metadata": {},
   "outputs": [
    {
     "name": "stdout",
     "output_type": "stream",
     "text": [
      "<class 'list'>\n",
      "[[[ 1  2  3]\n",
      "  [ 4  5  6]]\n",
      "\n",
      " [[10 20 30]\n",
      "  [40 50 60]]]\n",
      "<class 'numpy.ndarray'>\n",
      "Dimensions: 3\n",
      "3\n"
     ]
    }
   ],
   "source": [
    "# 3-D array\n",
    "# array that has 2-D arrays (matrices) as its elements is \n",
    "# called 3-D array.\n",
    "ar = [[[1, 2, 3], [4, 5, 6]] , [[10, 20, 30], [40, 50, 60]]]\n",
    "print(type(ar))\n",
    "\n",
    "arr = np.array(ar)\n",
    "print(arr)\n",
    "print(type(arr))\n",
    "print(\"Dimensions:\",arr.ndim)\n",
    "# dimensions\n",
    "\n",
    "print(arr.ndim)"
   ]
  },
  {
   "cell_type": "code",
   "execution_count": 88,
   "metadata": {},
   "outputs": [
    {
     "name": "stdout",
     "output_type": "stream",
     "text": [
      "[[10 20 30]\n",
      " [40 50 60]]\n",
      "[1 2 3]\n",
      "3\n",
      "[[10 20 30]\n",
      " [40 50 60]]\n",
      "[1 2 3]\n",
      "3\n"
     ]
    }
   ],
   "source": [
    "# access the elements of the 3-D array\n",
    "# One way is \n",
    "\n",
    "print(arr[1])\n",
    "print(arr[0][0])\n",
    "print(arr[0][0][2])\n",
    "\n",
    "# Another way\n",
    "\n",
    "\n",
    "print(arr[1])\n",
    "print(arr[0,0])\n",
    "print(arr[0,0,2])"
   ]
  },
  {
   "cell_type": "code",
   "execution_count": 89,
   "metadata": {},
   "outputs": [
    {
     "name": "stdout",
     "output_type": "stream",
     "text": [
      "[[[[[1 2 3 4]]]]]\n",
      "number of dimensions : 5\n"
     ]
    }
   ],
   "source": [
    "# create an n dimensional array\n",
    "arr = np.array([1, 2, 3, 4], ndmin=5)\n",
    "\n",
    "print(arr)\n",
    "print('number of dimensions :', arr.ndim) "
   ]
  },
  {
   "cell_type": "code",
   "execution_count": null,
   "metadata": {},
   "outputs": [],
   "source": []
  }
 ],
 "metadata": {
  "kernelspec": {
   "display_name": "Python 3",
   "language": "python",
   "name": "python3"
  },
  "language_info": {
   "codemirror_mode": {
    "name": "ipython",
    "version": 3
   },
   "file_extension": ".py",
   "mimetype": "text/x-python",
   "name": "python",
   "nbconvert_exporter": "python",
   "pygments_lexer": "ipython3",
   "version": "3.5.2"
  }
 },
 "nbformat": 4,
 "nbformat_minor": 4
}
