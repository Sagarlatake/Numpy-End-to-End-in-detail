{
 "cells": [
  {
   "cell_type": "markdown",
   "metadata": {},
   "source": [
    "# Numerical Python End to End in Detail"
   ]
  },
  {
   "cell_type": "markdown",
   "metadata": {},
   "source": [
    "### Numpy:\n",
    "\n",
    "Numpy- is a <b>Numerical Python</b>\n",
    "\n",
    "It is developed by <b>Travis Oliphant in 2005</b>\n",
    "\n",
    "Numpy has functions to work on linear algebra, fourier transform, and matrices\n",
    "\n",
    "Its basically used to work with array, It can work with multidimentional Arrays\n",
    "\n",
    "### Why:\n",
    "\n",
    "Numpy is built using <b>python</b>, and most of the part which requires fatser execution is <b>developed using c or c++</b>,So it is very fast in execution.\n",
    "\n",
    "Numpy arrays are called as <b>ndarray</b>\n",
    "\n",
    "Numpy has 50x speed as compared to python list\n",
    "\n",
    "Numpy provides lots of functions which can be performed on large data\n",
    "\n",
    "Numpy gives faster response as compared to list as it <b>stores numpy arrays at one continuous location</b>\n",
    "\n",
    "Numpy codes are available at:\n",
    "https://github.com/numpy/numpy\n",
    "\n"
   ]
  },
  {
   "cell_type": "markdown",
   "metadata": {},
   "source": [
    "## Installation of Numpy"
   ]
  },
  {
   "cell_type": "raw",
   "metadata": {},
   "source": [
    "Go to terminal and use below command, without !\n",
    "\n",
    "! pip install numpy\n",
    "\n",
    "you can use other tools like spyder or Anaconda which comes with its installation."
   ]
  },
  {
   "cell_type": "code",
   "execution_count": 11,
   "metadata": {},
   "outputs": [
    {
     "name": "stdout",
     "output_type": "stream",
     "text": [
      "Numpy Version is:  1.18.5\n",
      "[1, 2, 3, 4, 5, 6, 7, 8]\n",
      "<class 'list'>\n",
      "[1 2 3 4 5 6 7 8]\n",
      "<class 'numpy.ndarray'>\n"
     ]
    }
   ],
   "source": [
    "# create a numpy array using list\n",
    "import numpy as np\n",
    "\n",
    "print(\"Numpy Version is: \",np.__version__)\n",
    "\n",
    "\n",
    "lst = [1,2,3,4,5,6,7,8]\n",
    "print(lst)\n",
    "print(type(lst))\n",
    "x = np.array(lst)\n",
    "print(x)\n",
    "print(type(x))\n"
   ]
  },
  {
   "cell_type": "code",
   "execution_count": null,
   "metadata": {},
   "outputs": [],
   "source": []
  }
 ],
 "metadata": {
  "kernelspec": {
   "display_name": "Python 3",
   "language": "python",
   "name": "python3"
  },
  "language_info": {
   "codemirror_mode": {
    "name": "ipython",
    "version": 3
   },
   "file_extension": ".py",
   "mimetype": "text/x-python",
   "name": "python",
   "nbconvert_exporter": "python",
   "pygments_lexer": "ipython3",
   "version": "3.5.2"
  }
 },
 "nbformat": 4,
 "nbformat_minor": 4
}
